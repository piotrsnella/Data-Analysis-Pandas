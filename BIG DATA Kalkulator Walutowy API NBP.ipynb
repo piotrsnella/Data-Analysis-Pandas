{
 "cells": [
  {
   "cell_type": "code",
   "execution_count": 26,
   "metadata": {},
   "outputs": [],
   "source": [
    "import requests\n",
    "from bs4 import BeautifulSoup\n",
    "import pandas as pd\n",
    "\n",
    "# Pobranie danych z pliku xml:\n",
    "waluty_xml = requests.get(r'http://www.nbp.pl/kursy/xml/LastA.xml')\n",
    "# Ustawienie kodowania dla pliku xml ('requests' automatycznie ustawia nieprawidłowe 'ISO-8859-1'):\n",
    "waluty_xml.encoding = 'ISO-8859-2'\n",
    " \n",
    "# Stworzenie obiektu BeautifulSoup:\n",
    "waluty_soup = BeautifulSoup(waluty_xml.text, 'html.parser')"
   ]
  },
  {
   "cell_type": "code",
   "execution_count": 5,
   "metadata": {},
   "outputs": [],
   "source": [
    "# Pozyskanie i zapisanie daty publikacji:\n",
    "data_publikacji = waluty_soup.data_publikacji.string"
   ]
  },
  {
   "cell_type": "code",
   "execution_count": 6,
   "metadata": {},
   "outputs": [
    {
     "data": {
      "text/plain": [
       "'2020-03-04'"
      ]
     },
     "execution_count": 6,
     "metadata": {},
     "output_type": "execute_result"
    }
   ],
   "source": [
    "data_publikacji"
   ]
  },
  {
   "cell_type": "code",
   "execution_count": 7,
   "metadata": {},
   "outputs": [],
   "source": [
    "dane_walut = {}"
   ]
  },
  {
   "cell_type": "code",
   "execution_count": 24,
   "metadata": {},
   "outputs": [
    {
     "name": "stdout",
     "output_type": "stream",
     "text": [
      "2020-03-04 {'THB': {'nazwa': 'bat (Tajlandia)', 'przelicznik': 1, 'kurs': 0.123}, 'USD': {'nazwa': 'dolar amerykański', 'przelicznik': 1, 'kurs': 3.8536}, 'AUD': {'nazwa': 'dolar australijski', 'przelicznik': 1, 'kurs': 2.548}, 'HKD': {'nazwa': 'dolar Hongkongu', 'przelicznik': 1, 'kurs': 0.496}, 'CAD': {'nazwa': 'dolar kanadyjski', 'przelicznik': 1, 'kurs': 2.8848}, 'NZD': {'nazwa': 'dolar nowozelandzki', 'przelicznik': 1, 'kurs': 2.4245}, 'SGD': {'nazwa': 'dolar singapurski', 'przelicznik': 1, 'kurs': 2.7834}, 'EUR': {'nazwa': 'euro', 'przelicznik': 1, 'kurs': 4.2993}, 'HUF': {'nazwa': 'forint (Węgry)', 'przelicznik': 100, 'kurs': 1.283}, 'CHF': {'nazwa': 'frank szwajcarski', 'przelicznik': 1, 'kurs': 4.0382}, 'GBP': {'nazwa': 'funt szterling', 'przelicznik': 1, 'kurs': 4.9264}, 'UAH': {'nazwa': 'hrywna (Ukraina)', 'przelicznik': 1, 'kurs': 0.1551}, 'JPY': {'nazwa': 'jen (Japonia)', 'przelicznik': 100, 'kurs': 3.5872}, 'CZK': {'nazwa': 'korona czeska', 'przelicznik': 1, 'kurs': 0.1694}, 'DKK': {'nazwa': 'korona duńska', 'przelicznik': 1, 'kurs': 0.5753}, 'ISK': {'nazwa': 'korona islandzka', 'przelicznik': 100, 'kurs': 3.0234}, 'NOK': {'nazwa': 'korona norweska', 'przelicznik': 1, 'kurs': 0.4165}, 'SEK': {'nazwa': 'korona szwedzka', 'przelicznik': 1, 'kurs': 0.4074}, 'HRK': {'nazwa': 'kuna (Chorwacja)', 'przelicznik': 1, 'kurs': 0.5744}, 'RON': {'nazwa': 'lej rumuński', 'przelicznik': 1, 'kurs': 0.8941}, 'BGN': {'nazwa': 'lew (Bułgaria)', 'przelicznik': 1, 'kurs': 2.1982}, 'TRY': {'nazwa': 'lira turecka', 'przelicznik': 1, 'kurs': 0.6328}, 'ILS': {'nazwa': 'nowy izraelski szekel', 'przelicznik': 1, 'kurs': 1.1208}, 'CLP': {'nazwa': 'peso chilijskie', 'przelicznik': 100, 'kurs': 0.4737}, 'PHP': {'nazwa': 'peso filipińskie', 'przelicznik': 1, 'kurs': 0.0762}, 'MXN': {'nazwa': 'peso meksykańskie', 'przelicznik': 1, 'kurs': 0.1994}, 'ZAR': {'nazwa': 'rand (Republika Południowej Afryki)', 'przelicznik': 1, 'kurs': 0.2516}, 'BRL': {'nazwa': 'real (Brazylia)', 'przelicznik': 1, 'kurs': 0.8536}, 'MYR': {'nazwa': 'ringgit (Malezja)', 'przelicznik': 1, 'kurs': 0.9218}, 'RUB': {'nazwa': 'rubel rosyjski', 'przelicznik': 1, 'kurs': 0.0586}, 'IDR': {'nazwa': 'rupia indonezyjska', 'przelicznik': 10000, 'kurs': 2.7302}, 'INR': {'nazwa': 'rupia indyjska', 'przelicznik': 100, 'kurs': 5.2511}, 'KRW': {'nazwa': 'won południowokoreański', 'przelicznik': 100, 'kurs': 0.3256}, 'CNY': {'nazwa': 'yuan renminbi (Chiny)', 'przelicznik': 1, 'kurs': 0.5559}, 'XDR': {'nazwa': 'SDR (MFW)', 'przelicznik': 1, 'kurs': 5.3304}}\n"
     ]
    }
   ],
   "source": [
    "for pozycja in waluty_soup.find_all('pozycja'):\n",
    "    kod = pozycja.kod_waluty.string\n",
    "    nazwa = pozycja.nazwa_waluty.string\n",
    "# Konwersja na int!\n",
    "    przelicznik = int(pozycja.przelicznik.string)\n",
    "# Zamiana '.' na ',' i konwersja na float!\n",
    "    kurs = float(pozycja.kurs_sredni.string.replace(',', '.'))\n",
    "    dane_walut[kod] = {'nazwa': nazwa, 'przelicznik': przelicznik, 'kurs': kurs}\n",
    "print (data_publikacji, dane_walut)\n"
   ]
  },
  {
   "cell_type": "code",
   "execution_count": null,
   "metadata": {},
   "outputs": [],
   "source": []
  },
  {
   "cell_type": "code",
   "execution_count": null,
   "metadata": {},
   "outputs": [],
   "source": []
  }
 ],
 "metadata": {
  "kernelspec": {
   "display_name": "Python 3",
   "language": "python",
   "name": "python3"
  },
  "language_info": {
   "codemirror_mode": {
    "name": "ipython",
    "version": 3
   },
   "file_extension": ".py",
   "mimetype": "text/x-python",
   "name": "python",
   "nbconvert_exporter": "python",
   "pygments_lexer": "ipython3",
   "version": "3.7.4"
  }
 },
 "nbformat": 4,
 "nbformat_minor": 2
}
