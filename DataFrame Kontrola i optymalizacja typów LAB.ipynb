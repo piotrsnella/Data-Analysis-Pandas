{
 "cells": [
  {
   "cell_type": "code",
   "execution_count": 1,
   "metadata": {},
   "outputs": [],
   "source": [
    "import pandas as pd\n",
    "import numpy as np\n",
    "import matplotlib.pyplot as plt\n",
    "import math as math"
   ]
  },
  {
   "cell_type": "code",
   "execution_count": 2,
   "metadata": {},
   "outputs": [],
   "source": [
    "fuel = pd.read_csv(\"./course-files/fuel.csv\", low_memory = False, usecols = ['Vehicle ID','Year','Make','Model','Class','Fuel Type','Combined MPG (FT1)'])"
   ]
  },
  {
   "cell_type": "code",
   "execution_count": 3,
   "metadata": {},
   "outputs": [
    {
     "name": "stdout",
     "output_type": "stream",
     "text": [
      "<class 'pandas.core.frame.DataFrame'>\n",
      "RangeIndex: 31684 entries, 0 to 31683\n",
      "Data columns (total 7 columns):\n",
      "Vehicle ID            31684 non-null int64\n",
      "Year                  31684 non-null int64\n",
      "Make                  31684 non-null object\n",
      "Model                 31683 non-null object\n",
      "Class                 31683 non-null object\n",
      "Fuel Type             31683 non-null object\n",
      "Combined MPG (FT1)    31683 non-null float64\n",
      "dtypes: float64(1), int64(2), object(4)\n",
      "memory usage: 1.7+ MB\n"
     ]
    }
   ],
   "source": [
    "fuel.info()"
   ]
  },
  {
   "cell_type": "code",
   "execution_count": 4,
   "metadata": {},
   "outputs": [
    {
     "name": "stdout",
     "output_type": "stream",
     "text": [
      "<class 'pandas.core.frame.DataFrame'>\n",
      "RangeIndex: 31684 entries, 0 to 31683\n",
      "Data columns (total 7 columns):\n",
      "Vehicle ID            31684 non-null int64\n",
      "Year                  31684 non-null int64\n",
      "Make                  31684 non-null object\n",
      "Model                 31683 non-null object\n",
      "Class                 31683 non-null object\n",
      "Fuel Type             31683 non-null object\n",
      "Combined MPG (FT1)    31683 non-null float64\n",
      "dtypes: float64(1), int64(2), object(4)\n",
      "memory usage: 8.9 MB\n"
     ]
    }
   ],
   "source": [
    "fuel.info(memory_usage='deep')"
   ]
  },
  {
   "cell_type": "code",
   "execution_count": 5,
   "metadata": {},
   "outputs": [],
   "source": [
    "fuel['Year']=fuel['Year'].astype('int')"
   ]
  },
  {
   "cell_type": "code",
   "execution_count": 6,
   "metadata": {},
   "outputs": [
    {
     "name": "stdout",
     "output_type": "stream",
     "text": [
      "<class 'pandas.core.frame.DataFrame'>\n",
      "RangeIndex: 31684 entries, 0 to 31683\n",
      "Data columns (total 7 columns):\n",
      "Vehicle ID            31684 non-null int64\n",
      "Year                  31684 non-null int32\n",
      "Make                  31684 non-null object\n",
      "Model                 31683 non-null object\n",
      "Class                 31683 non-null object\n",
      "Fuel Type             31683 non-null object\n",
      "Combined MPG (FT1)    31683 non-null float64\n",
      "dtypes: float64(1), int32(1), int64(1), object(4)\n",
      "memory usage: 8.8 MB\n"
     ]
    }
   ],
   "source": [
    "fuel.info(memory_usage='deep')"
   ]
  },
  {
   "cell_type": "code",
   "execution_count": 14,
   "metadata": {},
   "outputs": [
    {
     "data": {
      "text/plain": [
       "Chevrolet                           3389\n",
       "Ford                                2721\n",
       "Dodge                               2361\n",
       "GMC                                 2174\n",
       "Toyota                              1599\n",
       "                                    ... \n",
       "ASC Incorporated                       1\n",
       "London Coach Co Inc                    1\n",
       "Shelby                                 1\n",
       "Superior Coaches Div E.p. Dutton       1\n",
       "Mahindra                               1\n",
       "Name: Make, Length: 128, dtype: int64"
      ]
     },
     "execution_count": 14,
     "metadata": {},
     "output_type": "execute_result"
    }
   ],
   "source": [
    "fuel['Make'].value_counts()"
   ]
  },
  {
   "cell_type": "code",
   "execution_count": 16,
   "metadata": {},
   "outputs": [],
   "source": [
    "fuel['Make']= fuel['Make'].astype('category')"
   ]
  },
  {
   "cell_type": "code",
   "execution_count": 18,
   "metadata": {},
   "outputs": [
    {
     "name": "stdout",
     "output_type": "stream",
     "text": [
      "<class 'pandas.core.frame.DataFrame'>\n",
      "RangeIndex: 31684 entries, 0 to 31683\n",
      "Data columns (total 7 columns):\n",
      "Vehicle ID            31684 non-null int64\n",
      "Year                  31684 non-null int32\n",
      "Make                  31684 non-null category\n",
      "Model                 31683 non-null object\n",
      "Class                 31683 non-null object\n",
      "Fuel Type             31683 non-null object\n",
      "Combined MPG (FT1)    31683 non-null float64\n",
      "dtypes: category(1), float64(1), int32(1), int64(1), object(3)\n",
      "memory usage: 6.9 MB\n"
     ]
    }
   ],
   "source": [
    "fuel.info(memory_usage='deep')"
   ]
  },
  {
   "cell_type": "code",
   "execution_count": 19,
   "metadata": {},
   "outputs": [
    {
     "data": {
      "text/plain": [
       "F150 Pickup 2WD           194\n",
       "Truck 2WD                 187\n",
       "F150 Pickup 4WD           172\n",
       "Ranger Pickup 2WD         169\n",
       "Mustang                   156\n",
       "                         ... \n",
       "S350D                       1\n",
       "ActiveHybrid 5              1\n",
       "Sierra C15 XFE 2WD FFV      1\n",
       "Montana SV6 AWD             1\n",
       "C320 FFV (Wagon)            1\n",
       "Name: Model, Length: 2957, dtype: int64"
      ]
     },
     "execution_count": 19,
     "metadata": {},
     "output_type": "execute_result"
    }
   ],
   "source": [
    "fuel['Model'].value_counts()"
   ]
  },
  {
   "cell_type": "code",
   "execution_count": 20,
   "metadata": {},
   "outputs": [],
   "source": [
    "fuel['Model']= fuel['Model'].astype('category')"
   ]
  },
  {
   "cell_type": "code",
   "execution_count": 21,
   "metadata": {},
   "outputs": [],
   "source": [
    "fuel['Class']= fuel['Class'].astype('category')"
   ]
  },
  {
   "cell_type": "code",
   "execution_count": 22,
   "metadata": {},
   "outputs": [],
   "source": [
    "fuel['Fuel Type']=fuel['Fuel Type'].astype('category')"
   ]
  },
  {
   "cell_type": "code",
   "execution_count": 23,
   "metadata": {},
   "outputs": [
    {
     "name": "stdout",
     "output_type": "stream",
     "text": [
      "<class 'pandas.core.frame.DataFrame'>\n",
      "RangeIndex: 31684 entries, 0 to 31683\n",
      "Data columns (total 7 columns):\n",
      "Vehicle ID            31684 non-null int64\n",
      "Year                  31684 non-null int32\n",
      "Make                  31684 non-null category\n",
      "Model                 31683 non-null category\n",
      "Class                 31683 non-null category\n",
      "Fuel Type             31683 non-null category\n",
      "Combined MPG (FT1)    31683 non-null float64\n",
      "dtypes: category(4), float64(1), int32(1), int64(1)\n",
      "memory usage: 1.1 MB\n"
     ]
    }
   ],
   "source": [
    "fuel.info(memory_usage = 'deep')"
   ]
  },
  {
   "cell_type": "code",
   "execution_count": 24,
   "metadata": {},
   "outputs": [],
   "source": [
    "fuel['Combined MPG (FT1)'] = fuel['Combined MPG (FT1)'].astype('float')"
   ]
  },
  {
   "cell_type": "code",
   "execution_count": 26,
   "metadata": {},
   "outputs": [
    {
     "name": "stdout",
     "output_type": "stream",
     "text": [
      "<class 'pandas.core.frame.DataFrame'>\n",
      "RangeIndex: 31684 entries, 0 to 31683\n",
      "Data columns (total 7 columns):\n",
      "Vehicle ID            31684 non-null int64\n",
      "Year                  31684 non-null int32\n",
      "Make                  31684 non-null category\n",
      "Model                 31683 non-null category\n",
      "Class                 31683 non-null category\n",
      "Fuel Type             31683 non-null category\n",
      "Combined MPG (FT1)    31683 non-null float64\n",
      "dtypes: category(4), float64(1), int32(1), int64(1)\n",
      "memory usage: 1.1 MB\n"
     ]
    }
   ],
   "source": [
    "fuel.info(memory_usage='deep')"
   ]
  },
  {
   "cell_type": "code",
   "execution_count": null,
   "metadata": {},
   "outputs": [],
   "source": []
  }
 ],
 "metadata": {
  "kernelspec": {
   "display_name": "Python 3",
   "language": "python",
   "name": "python3"
  },
  "language_info": {
   "codemirror_mode": {
    "name": "ipython",
    "version": 3
   },
   "file_extension": ".py",
   "mimetype": "text/x-python",
   "name": "python",
   "nbconvert_exporter": "python",
   "pygments_lexer": "ipython3",
   "version": "3.7.4"
  }
 },
 "nbformat": 4,
 "nbformat_minor": 2
}
