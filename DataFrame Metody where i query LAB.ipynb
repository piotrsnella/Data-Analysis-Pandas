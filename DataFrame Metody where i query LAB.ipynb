{
 "cells": [
  {
   "cell_type": "code",
   "execution_count": 1,
   "metadata": {},
   "outputs": [],
   "source": [
    "import pandas as pd\n",
    "import numpy as np\n",
    "import matplotlib.pyplot as plt\n",
    "import math as math"
   ]
  },
  {
   "cell_type": "code",
   "execution_count": 3,
   "metadata": {},
   "outputs": [],
   "source": [
    "animals = pd.read_csv(\"./course-files/sleep_time.csv\", index_col='ID')"
   ]
  },
  {
   "cell_type": "code",
   "execution_count": 14,
   "metadata": {},
   "outputs": [
    {
     "data": {
      "text/html": [
       "<div>\n",
       "<style scoped>\n",
       "    .dataframe tbody tr th:only-of-type {\n",
       "        vertical-align: middle;\n",
       "    }\n",
       "\n",
       "    .dataframe tbody tr th {\n",
       "        vertical-align: top;\n",
       "    }\n",
       "\n",
       "    .dataframe thead th {\n",
       "        text-align: right;\n",
       "    }\n",
       "</style>\n",
       "<table border=\"1\" class=\"dataframe\">\n",
       "  <thead>\n",
       "    <tr style=\"text-align: right;\">\n",
       "      <th></th>\n",
       "      <th>name</th>\n",
       "      <th>genus</th>\n",
       "      <th>vore</th>\n",
       "      <th>order</th>\n",
       "      <th>conservation</th>\n",
       "      <th>sleep_total</th>\n",
       "      <th>sleep_rem</th>\n",
       "      <th>sleep_cycle</th>\n",
       "      <th>awake</th>\n",
       "      <th>brainwt</th>\n",
       "      <th>bodywt</th>\n",
       "    </tr>\n",
       "    <tr>\n",
       "      <th>ID</th>\n",
       "      <th></th>\n",
       "      <th></th>\n",
       "      <th></th>\n",
       "      <th></th>\n",
       "      <th></th>\n",
       "      <th></th>\n",
       "      <th></th>\n",
       "      <th></th>\n",
       "      <th></th>\n",
       "      <th></th>\n",
       "      <th></th>\n",
       "    </tr>\n",
       "  </thead>\n",
       "  <tbody>\n",
       "    <tr>\n",
       "      <td>1</td>\n",
       "      <td>Cheetah</td>\n",
       "      <td>Acinonyx</td>\n",
       "      <td>carni</td>\n",
       "      <td>Carnivora</td>\n",
       "      <td>lc</td>\n",
       "      <td>12.1</td>\n",
       "      <td>NaN</td>\n",
       "      <td>NaN</td>\n",
       "      <td>11.9</td>\n",
       "      <td>NaN</td>\n",
       "      <td>50.000</td>\n",
       "    </tr>\n",
       "    <tr>\n",
       "      <td>2</td>\n",
       "      <td>Owl monkey</td>\n",
       "      <td>Aotus</td>\n",
       "      <td>omni</td>\n",
       "      <td>Primates</td>\n",
       "      <td>NaN</td>\n",
       "      <td>17.0</td>\n",
       "      <td>1.8</td>\n",
       "      <td>NaN</td>\n",
       "      <td>7.0</td>\n",
       "      <td>0.01550</td>\n",
       "      <td>0.480</td>\n",
       "    </tr>\n",
       "    <tr>\n",
       "      <td>3</td>\n",
       "      <td>Mountain beaver</td>\n",
       "      <td>Aplodontia</td>\n",
       "      <td>herbi</td>\n",
       "      <td>Rodentia</td>\n",
       "      <td>nt</td>\n",
       "      <td>14.4</td>\n",
       "      <td>2.4</td>\n",
       "      <td>NaN</td>\n",
       "      <td>9.6</td>\n",
       "      <td>NaN</td>\n",
       "      <td>1.350</td>\n",
       "    </tr>\n",
       "    <tr>\n",
       "      <td>4</td>\n",
       "      <td>Greater short-tailed shrew</td>\n",
       "      <td>Blarina</td>\n",
       "      <td>omni</td>\n",
       "      <td>Soricomorpha</td>\n",
       "      <td>lc</td>\n",
       "      <td>14.9</td>\n",
       "      <td>2.3</td>\n",
       "      <td>0.133333</td>\n",
       "      <td>9.1</td>\n",
       "      <td>0.00029</td>\n",
       "      <td>0.019</td>\n",
       "    </tr>\n",
       "    <tr>\n",
       "      <td>5</td>\n",
       "      <td>Cow</td>\n",
       "      <td>Bos</td>\n",
       "      <td>herbi</td>\n",
       "      <td>Artiodactyla</td>\n",
       "      <td>domesticated</td>\n",
       "      <td>4.0</td>\n",
       "      <td>0.7</td>\n",
       "      <td>0.666667</td>\n",
       "      <td>20.0</td>\n",
       "      <td>0.42300</td>\n",
       "      <td>600.000</td>\n",
       "    </tr>\n",
       "  </tbody>\n",
       "</table>\n",
       "</div>"
      ],
      "text/plain": [
       "                          name       genus   vore         order  conservation  \\\n",
       "ID                                                                              \n",
       "1                      Cheetah    Acinonyx  carni     Carnivora            lc   \n",
       "2                   Owl monkey       Aotus   omni      Primates           NaN   \n",
       "3              Mountain beaver  Aplodontia  herbi      Rodentia            nt   \n",
       "4   Greater short-tailed shrew     Blarina   omni  Soricomorpha            lc   \n",
       "5                          Cow         Bos  herbi  Artiodactyla  domesticated   \n",
       "\n",
       "    sleep_total  sleep_rem  sleep_cycle  awake  brainwt   bodywt  \n",
       "ID                                                                \n",
       "1          12.1        NaN          NaN   11.9      NaN   50.000  \n",
       "2          17.0        1.8          NaN    7.0  0.01550    0.480  \n",
       "3          14.4        2.4          NaN    9.6      NaN    1.350  \n",
       "4          14.9        2.3     0.133333    9.1  0.00029    0.019  \n",
       "5           4.0        0.7     0.666667   20.0  0.42300  600.000  "
      ]
     },
     "execution_count": 14,
     "metadata": {},
     "output_type": "execute_result"
    }
   ],
   "source": [
    "animals.head()"
   ]
  },
  {
   "cell_type": "code",
   "execution_count": 19,
   "metadata": {},
   "outputs": [],
   "source": [
    "IsHerbi = animals['vore'] == 'herbi'\n",
    "herbi = animals['vore'].where(IsHerbi)"
   ]
  },
  {
   "cell_type": "code",
   "execution_count": 20,
   "metadata": {},
   "outputs": [
    {
     "data": {
      "text/plain": [
       "ID\n",
       "1       NaN\n",
       "2       NaN\n",
       "3     herbi\n",
       "4       NaN\n",
       "5     herbi\n",
       "6     herbi\n",
       "7       NaN\n",
       "8       NaN\n",
       "9       NaN\n",
       "10    herbi\n",
       "11    herbi\n",
       "12    herbi\n",
       "13      NaN\n",
       "14    herbi\n",
       "15      NaN\n",
       "16      NaN\n",
       "17      NaN\n",
       "18      NaN\n",
       "19    herbi\n",
       "20      NaN\n",
       "Name: vore, dtype: object"
      ]
     },
     "execution_count": 20,
     "metadata": {},
     "output_type": "execute_result"
    }
   ],
   "source": [
    "herbi.head(20)"
   ]
  },
  {
   "cell_type": "code",
   "execution_count": 22,
   "metadata": {},
   "outputs": [
    {
     "data": {
      "text/plain": [
       "83"
      ]
     },
     "execution_count": 22,
     "metadata": {},
     "output_type": "execute_result"
    }
   ],
   "source": [
    "len(herbi)"
   ]
  },
  {
   "cell_type": "code",
   "execution_count": 23,
   "metadata": {},
   "outputs": [
    {
     "data": {
      "text/plain": [
       "32"
      ]
     },
     "execution_count": 23,
     "metadata": {},
     "output_type": "execute_result"
    }
   ],
   "source": [
    "len(herbi.dropna())"
   ]
  },
  {
   "cell_type": "code",
   "execution_count": 24,
   "metadata": {},
   "outputs": [],
   "source": [
    "carni = animals['vore'] == 'carni'"
   ]
  },
  {
   "cell_type": "code",
   "execution_count": 26,
   "metadata": {},
   "outputs": [
    {
     "data": {
      "text/plain": [
       "83"
      ]
     },
     "execution_count": 26,
     "metadata": {},
     "output_type": "execute_result"
    }
   ],
   "source": [
    "len(animals.where(carni))"
   ]
  },
  {
   "cell_type": "code",
   "execution_count": 27,
   "metadata": {},
   "outputs": [
    {
     "data": {
      "text/plain": [
       "3"
      ]
     },
     "execution_count": 27,
     "metadata": {},
     "output_type": "execute_result"
    }
   ],
   "source": [
    "len(animals.where(carni).dropna())"
   ]
  },
  {
   "cell_type": "code",
   "execution_count": 28,
   "metadata": {},
   "outputs": [],
   "source": [
    "omni = animals.where(animals['vore'] == 'omni')"
   ]
  },
  {
   "cell_type": "code",
   "execution_count": 29,
   "metadata": {},
   "outputs": [
    {
     "data": {
      "text/plain": [
       "83"
      ]
     },
     "execution_count": 29,
     "metadata": {},
     "output_type": "execute_result"
    }
   ],
   "source": [
    "len(omni)"
   ]
  },
  {
   "cell_type": "code",
   "execution_count": 30,
   "metadata": {},
   "outputs": [
    {
     "data": {
      "text/plain": [
       "5"
      ]
     },
     "execution_count": 30,
     "metadata": {},
     "output_type": "execute_result"
    }
   ],
   "source": [
    "len(omni.dropna())"
   ]
  },
  {
   "cell_type": "code",
   "execution_count": 33,
   "metadata": {},
   "outputs": [
    {
     "data": {
      "text/html": [
       "<div>\n",
       "<style scoped>\n",
       "    .dataframe tbody tr th:only-of-type {\n",
       "        vertical-align: middle;\n",
       "    }\n",
       "\n",
       "    .dataframe tbody tr th {\n",
       "        vertical-align: top;\n",
       "    }\n",
       "\n",
       "    .dataframe thead th {\n",
       "        text-align: right;\n",
       "    }\n",
       "</style>\n",
       "<table border=\"1\" class=\"dataframe\">\n",
       "  <thead>\n",
       "    <tr style=\"text-align: right;\">\n",
       "      <th></th>\n",
       "      <th>name</th>\n",
       "      <th>genus</th>\n",
       "      <th>vore</th>\n",
       "      <th>order</th>\n",
       "      <th>conservation</th>\n",
       "      <th>sleep_total</th>\n",
       "      <th>sleep_rem</th>\n",
       "      <th>sleep_cycle</th>\n",
       "      <th>awake</th>\n",
       "      <th>brainwt</th>\n",
       "      <th>bodywt</th>\n",
       "    </tr>\n",
       "    <tr>\n",
       "      <th>ID</th>\n",
       "      <th></th>\n",
       "      <th></th>\n",
       "      <th></th>\n",
       "      <th></th>\n",
       "      <th></th>\n",
       "      <th></th>\n",
       "      <th></th>\n",
       "      <th></th>\n",
       "      <th></th>\n",
       "      <th></th>\n",
       "      <th></th>\n",
       "    </tr>\n",
       "  </thead>\n",
       "  <tbody>\n",
       "    <tr>\n",
       "      <td>4</td>\n",
       "      <td>Greater short-tailed shrew</td>\n",
       "      <td>Blarina</td>\n",
       "      <td>omni</td>\n",
       "      <td>Soricomorpha</td>\n",
       "      <td>lc</td>\n",
       "      <td>14.9</td>\n",
       "      <td>2.3</td>\n",
       "      <td>0.133333</td>\n",
       "      <td>9.1</td>\n",
       "      <td>0.00029</td>\n",
       "      <td>0.019</td>\n",
       "    </tr>\n",
       "    <tr>\n",
       "      <td>17</td>\n",
       "      <td>Lesser short-tailed shrew</td>\n",
       "      <td>Cryptotis</td>\n",
       "      <td>omni</td>\n",
       "      <td>Soricomorpha</td>\n",
       "      <td>lc</td>\n",
       "      <td>9.1</td>\n",
       "      <td>1.4</td>\n",
       "      <td>0.150000</td>\n",
       "      <td>14.9</td>\n",
       "      <td>0.00014</td>\n",
       "      <td>0.005</td>\n",
       "    </tr>\n",
       "    <tr>\n",
       "      <td>20</td>\n",
       "      <td>North American Opossum</td>\n",
       "      <td>Didelphis</td>\n",
       "      <td>omni</td>\n",
       "      <td>Didelphimorphia</td>\n",
       "      <td>lc</td>\n",
       "      <td>18.0</td>\n",
       "      <td>4.9</td>\n",
       "      <td>0.333333</td>\n",
       "      <td>6.0</td>\n",
       "      <td>0.00630</td>\n",
       "      <td>1.700</td>\n",
       "    </tr>\n",
       "    <tr>\n",
       "      <td>25</td>\n",
       "      <td>European hedgehog</td>\n",
       "      <td>Erinaceus</td>\n",
       "      <td>omni</td>\n",
       "      <td>Erinaceomorpha</td>\n",
       "      <td>lc</td>\n",
       "      <td>10.1</td>\n",
       "      <td>3.5</td>\n",
       "      <td>0.283333</td>\n",
       "      <td>13.9</td>\n",
       "      <td>0.00350</td>\n",
       "      <td>0.770</td>\n",
       "    </tr>\n",
       "    <tr>\n",
       "      <td>74</td>\n",
       "      <td>Pig</td>\n",
       "      <td>Sus</td>\n",
       "      <td>omni</td>\n",
       "      <td>Artiodactyla</td>\n",
       "      <td>domesticated</td>\n",
       "      <td>9.1</td>\n",
       "      <td>2.4</td>\n",
       "      <td>0.500000</td>\n",
       "      <td>14.9</td>\n",
       "      <td>0.18000</td>\n",
       "      <td>86.250</td>\n",
       "    </tr>\n",
       "  </tbody>\n",
       "</table>\n",
       "</div>"
      ],
      "text/plain": [
       "                          name      genus  vore            order  \\\n",
       "ID                                                                 \n",
       "4   Greater short-tailed shrew    Blarina  omni     Soricomorpha   \n",
       "17   Lesser short-tailed shrew  Cryptotis  omni     Soricomorpha   \n",
       "20      North American Opossum  Didelphis  omni  Didelphimorphia   \n",
       "25           European hedgehog  Erinaceus  omni   Erinaceomorpha   \n",
       "74                         Pig        Sus  omni     Artiodactyla   \n",
       "\n",
       "    conservation  sleep_total  sleep_rem  sleep_cycle  awake  brainwt  bodywt  \n",
       "ID                                                                             \n",
       "4             lc         14.9        2.3     0.133333    9.1  0.00029   0.019  \n",
       "17            lc          9.1        1.4     0.150000   14.9  0.00014   0.005  \n",
       "20            lc         18.0        4.9     0.333333    6.0  0.00630   1.700  \n",
       "25            lc         10.1        3.5     0.283333   13.9  0.00350   0.770  \n",
       "74  domesticated          9.1        2.4     0.500000   14.9  0.18000  86.250  "
      ]
     },
     "execution_count": 33,
     "metadata": {},
     "output_type": "execute_result"
    }
   ],
   "source": [
    "omni.dropna().head(10)"
   ]
  },
  {
   "cell_type": "code",
   "execution_count": 34,
   "metadata": {},
   "outputs": [
    {
     "data": {
      "text/plain": [
       "10.924999999999999"
      ]
     },
     "execution_count": 34,
     "metadata": {},
     "output_type": "execute_result"
    }
   ],
   "source": [
    "omni['sleep_total'].mean()"
   ]
  },
  {
   "cell_type": "code",
   "execution_count": 39,
   "metadata": {},
   "outputs": [
    {
     "ename": "KeyError",
     "evalue": "'sleep_total'",
     "output_type": "error",
     "traceback": [
      "\u001b[1;31m---------------------------------------------------------------------------\u001b[0m",
      "\u001b[1;31mKeyError\u001b[0m                                  Traceback (most recent call last)",
      "\u001b[1;32m<ipython-input-39-456ccf9b2608>\u001b[0m in \u001b[0;36m<module>\u001b[1;34m\u001b[0m\n\u001b[1;32m----> 1\u001b[1;33m \u001b[0mherbi\u001b[0m\u001b[1;33m[\u001b[0m\u001b[1;34m\"sleep_total\"\u001b[0m\u001b[1;33m]\u001b[0m\u001b[1;33m.\u001b[0m\u001b[0mmean\u001b[0m\u001b[1;33m(\u001b[0m\u001b[1;33m)\u001b[0m\u001b[1;33m\u001b[0m\u001b[1;33m\u001b[0m\u001b[0m\n\u001b[0m",
      "\u001b[1;32m~\\Anaconda3\\lib\\site-packages\\pandas\\core\\series.py\u001b[0m in \u001b[0;36m__getitem__\u001b[1;34m(self, key)\u001b[0m\n\u001b[0;32m   1066\u001b[0m         \u001b[0mkey\u001b[0m \u001b[1;33m=\u001b[0m \u001b[0mcom\u001b[0m\u001b[1;33m.\u001b[0m\u001b[0mapply_if_callable\u001b[0m\u001b[1;33m(\u001b[0m\u001b[0mkey\u001b[0m\u001b[1;33m,\u001b[0m \u001b[0mself\u001b[0m\u001b[1;33m)\u001b[0m\u001b[1;33m\u001b[0m\u001b[1;33m\u001b[0m\u001b[0m\n\u001b[0;32m   1067\u001b[0m         \u001b[1;32mtry\u001b[0m\u001b[1;33m:\u001b[0m\u001b[1;33m\u001b[0m\u001b[1;33m\u001b[0m\u001b[0m\n\u001b[1;32m-> 1068\u001b[1;33m             \u001b[0mresult\u001b[0m \u001b[1;33m=\u001b[0m \u001b[0mself\u001b[0m\u001b[1;33m.\u001b[0m\u001b[0mindex\u001b[0m\u001b[1;33m.\u001b[0m\u001b[0mget_value\u001b[0m\u001b[1;33m(\u001b[0m\u001b[0mself\u001b[0m\u001b[1;33m,\u001b[0m \u001b[0mkey\u001b[0m\u001b[1;33m)\u001b[0m\u001b[1;33m\u001b[0m\u001b[1;33m\u001b[0m\u001b[0m\n\u001b[0m\u001b[0;32m   1069\u001b[0m \u001b[1;33m\u001b[0m\u001b[0m\n\u001b[0;32m   1070\u001b[0m             \u001b[1;32mif\u001b[0m \u001b[1;32mnot\u001b[0m \u001b[0mis_scalar\u001b[0m\u001b[1;33m(\u001b[0m\u001b[0mresult\u001b[0m\u001b[1;33m)\u001b[0m\u001b[1;33m:\u001b[0m\u001b[1;33m\u001b[0m\u001b[1;33m\u001b[0m\u001b[0m\n",
      "\u001b[1;32m~\\Anaconda3\\lib\\site-packages\\pandas\\core\\indexes\\base.py\u001b[0m in \u001b[0;36mget_value\u001b[1;34m(self, series, key)\u001b[0m\n\u001b[0;32m   4728\u001b[0m         \u001b[0mk\u001b[0m \u001b[1;33m=\u001b[0m \u001b[0mself\u001b[0m\u001b[1;33m.\u001b[0m\u001b[0m_convert_scalar_indexer\u001b[0m\u001b[1;33m(\u001b[0m\u001b[0mk\u001b[0m\u001b[1;33m,\u001b[0m \u001b[0mkind\u001b[0m\u001b[1;33m=\u001b[0m\u001b[1;34m\"getitem\"\u001b[0m\u001b[1;33m)\u001b[0m\u001b[1;33m\u001b[0m\u001b[1;33m\u001b[0m\u001b[0m\n\u001b[0;32m   4729\u001b[0m         \u001b[1;32mtry\u001b[0m\u001b[1;33m:\u001b[0m\u001b[1;33m\u001b[0m\u001b[1;33m\u001b[0m\u001b[0m\n\u001b[1;32m-> 4730\u001b[1;33m             \u001b[1;32mreturn\u001b[0m \u001b[0mself\u001b[0m\u001b[1;33m.\u001b[0m\u001b[0m_engine\u001b[0m\u001b[1;33m.\u001b[0m\u001b[0mget_value\u001b[0m\u001b[1;33m(\u001b[0m\u001b[0ms\u001b[0m\u001b[1;33m,\u001b[0m \u001b[0mk\u001b[0m\u001b[1;33m,\u001b[0m \u001b[0mtz\u001b[0m\u001b[1;33m=\u001b[0m\u001b[0mgetattr\u001b[0m\u001b[1;33m(\u001b[0m\u001b[0mseries\u001b[0m\u001b[1;33m.\u001b[0m\u001b[0mdtype\u001b[0m\u001b[1;33m,\u001b[0m \u001b[1;34m\"tz\"\u001b[0m\u001b[1;33m,\u001b[0m \u001b[1;32mNone\u001b[0m\u001b[1;33m)\u001b[0m\u001b[1;33m)\u001b[0m\u001b[1;33m\u001b[0m\u001b[1;33m\u001b[0m\u001b[0m\n\u001b[0m\u001b[0;32m   4731\u001b[0m         \u001b[1;32mexcept\u001b[0m \u001b[0mKeyError\u001b[0m \u001b[1;32mas\u001b[0m \u001b[0me1\u001b[0m\u001b[1;33m:\u001b[0m\u001b[1;33m\u001b[0m\u001b[1;33m\u001b[0m\u001b[0m\n\u001b[0;32m   4732\u001b[0m             \u001b[1;32mif\u001b[0m \u001b[0mlen\u001b[0m\u001b[1;33m(\u001b[0m\u001b[0mself\u001b[0m\u001b[1;33m)\u001b[0m \u001b[1;33m>\u001b[0m \u001b[1;36m0\u001b[0m \u001b[1;32mand\u001b[0m \u001b[1;33m(\u001b[0m\u001b[0mself\u001b[0m\u001b[1;33m.\u001b[0m\u001b[0mholds_integer\u001b[0m\u001b[1;33m(\u001b[0m\u001b[1;33m)\u001b[0m \u001b[1;32mor\u001b[0m \u001b[0mself\u001b[0m\u001b[1;33m.\u001b[0m\u001b[0mis_boolean\u001b[0m\u001b[1;33m(\u001b[0m\u001b[1;33m)\u001b[0m\u001b[1;33m)\u001b[0m\u001b[1;33m:\u001b[0m\u001b[1;33m\u001b[0m\u001b[1;33m\u001b[0m\u001b[0m\n",
      "\u001b[1;32mpandas\\_libs\\index.pyx\u001b[0m in \u001b[0;36mpandas._libs.index.IndexEngine.get_value\u001b[1;34m()\u001b[0m\n",
      "\u001b[1;32mpandas\\_libs\\index.pyx\u001b[0m in \u001b[0;36mpandas._libs.index.IndexEngine.get_value\u001b[1;34m()\u001b[0m\n",
      "\u001b[1;32mpandas\\_libs\\index.pyx\u001b[0m in \u001b[0;36mpandas._libs.index.IndexEngine.get_loc\u001b[1;34m()\u001b[0m\n",
      "\u001b[1;32mpandas\\_libs\\index_class_helper.pxi\u001b[0m in \u001b[0;36mpandas._libs.index.Int64Engine._check_type\u001b[1;34m()\u001b[0m\n",
      "\u001b[1;31mKeyError\u001b[0m: 'sleep_total'"
     ]
    }
   ],
   "source": [
    "herbi[\"sleep_total\"].mean()"
   ]
  },
  {
   "cell_type": "code",
   "execution_count": 45,
   "metadata": {},
   "outputs": [
    {
     "data": {
      "text/html": [
       "<div>\n",
       "<style scoped>\n",
       "    .dataframe tbody tr th:only-of-type {\n",
       "        vertical-align: middle;\n",
       "    }\n",
       "\n",
       "    .dataframe tbody tr th {\n",
       "        vertical-align: top;\n",
       "    }\n",
       "\n",
       "    .dataframe thead th {\n",
       "        text-align: right;\n",
       "    }\n",
       "</style>\n",
       "<table border=\"1\" class=\"dataframe\">\n",
       "  <thead>\n",
       "    <tr style=\"text-align: right;\">\n",
       "      <th></th>\n",
       "      <th>name</th>\n",
       "      <th>genus</th>\n",
       "      <th>vore</th>\n",
       "      <th>order</th>\n",
       "      <th>conservation</th>\n",
       "      <th>sleep_total</th>\n",
       "      <th>sleep_rem</th>\n",
       "      <th>sleep_cycle</th>\n",
       "      <th>awake</th>\n",
       "      <th>brainwt</th>\n",
       "      <th>bodywt</th>\n",
       "    </tr>\n",
       "    <tr>\n",
       "      <th>ID</th>\n",
       "      <th></th>\n",
       "      <th></th>\n",
       "      <th></th>\n",
       "      <th></th>\n",
       "      <th></th>\n",
       "      <th></th>\n",
       "      <th></th>\n",
       "      <th></th>\n",
       "      <th></th>\n",
       "      <th></th>\n",
       "      <th></th>\n",
       "    </tr>\n",
       "  </thead>\n",
       "  <tbody>\n",
       "    <tr>\n",
       "      <td>3</td>\n",
       "      <td>Mountain beaver</td>\n",
       "      <td>Aplodontia</td>\n",
       "      <td>herbi</td>\n",
       "      <td>Rodentia</td>\n",
       "      <td>nt</td>\n",
       "      <td>14.4</td>\n",
       "      <td>2.4</td>\n",
       "      <td>NaN</td>\n",
       "      <td>9.6</td>\n",
       "      <td>NaN</td>\n",
       "      <td>1.350</td>\n",
       "    </tr>\n",
       "    <tr>\n",
       "      <td>6</td>\n",
       "      <td>Three-toed sloth</td>\n",
       "      <td>Bradypus</td>\n",
       "      <td>herbi</td>\n",
       "      <td>Pilosa</td>\n",
       "      <td>NaN</td>\n",
       "      <td>14.4</td>\n",
       "      <td>2.2</td>\n",
       "      <td>0.766667</td>\n",
       "      <td>9.6</td>\n",
       "      <td>NaN</td>\n",
       "      <td>3.850</td>\n",
       "    </tr>\n",
       "    <tr>\n",
       "      <td>27</td>\n",
       "      <td>Western american chipmunk</td>\n",
       "      <td>Eutamias</td>\n",
       "      <td>herbi</td>\n",
       "      <td>Rodentia</td>\n",
       "      <td>NaN</td>\n",
       "      <td>14.9</td>\n",
       "      <td>NaN</td>\n",
       "      <td>NaN</td>\n",
       "      <td>9.1</td>\n",
       "      <td>NaN</td>\n",
       "      <td>0.071</td>\n",
       "    </tr>\n",
       "    <tr>\n",
       "      <td>39</td>\n",
       "      <td>Mongolian gerbil</td>\n",
       "      <td>Meriones</td>\n",
       "      <td>herbi</td>\n",
       "      <td>Rodentia</td>\n",
       "      <td>lc</td>\n",
       "      <td>14.2</td>\n",
       "      <td>1.9</td>\n",
       "      <td>NaN</td>\n",
       "      <td>9.8</td>\n",
       "      <td>NaN</td>\n",
       "      <td>0.053</td>\n",
       "    </tr>\n",
       "    <tr>\n",
       "      <td>40</td>\n",
       "      <td>Golden hamster</td>\n",
       "      <td>Mesocricetus</td>\n",
       "      <td>herbi</td>\n",
       "      <td>Rodentia</td>\n",
       "      <td>en</td>\n",
       "      <td>14.3</td>\n",
       "      <td>3.1</td>\n",
       "      <td>0.200000</td>\n",
       "      <td>9.7</td>\n",
       "      <td>0.0010</td>\n",
       "      <td>0.120</td>\n",
       "    </tr>\n",
       "    <tr>\n",
       "      <td>44</td>\n",
       "      <td>Round-tailed muskrat</td>\n",
       "      <td>Neofiber</td>\n",
       "      <td>herbi</td>\n",
       "      <td>Rodentia</td>\n",
       "      <td>nt</td>\n",
       "      <td>14.6</td>\n",
       "      <td>NaN</td>\n",
       "      <td>NaN</td>\n",
       "      <td>9.4</td>\n",
       "      <td>NaN</td>\n",
       "      <td>0.266</td>\n",
       "    </tr>\n",
       "    <tr>\n",
       "      <td>70</td>\n",
       "      <td>Arctic ground squirrel</td>\n",
       "      <td>Spermophilus</td>\n",
       "      <td>herbi</td>\n",
       "      <td>Rodentia</td>\n",
       "      <td>lc</td>\n",
       "      <td>16.6</td>\n",
       "      <td>NaN</td>\n",
       "      <td>NaN</td>\n",
       "      <td>7.4</td>\n",
       "      <td>0.0057</td>\n",
       "      <td>0.920</td>\n",
       "    </tr>\n",
       "    <tr>\n",
       "      <td>72</td>\n",
       "      <td>Golden-mantled ground squirrel</td>\n",
       "      <td>Spermophilus</td>\n",
       "      <td>herbi</td>\n",
       "      <td>Rodentia</td>\n",
       "      <td>lc</td>\n",
       "      <td>15.9</td>\n",
       "      <td>3.0</td>\n",
       "      <td>NaN</td>\n",
       "      <td>8.1</td>\n",
       "      <td>NaN</td>\n",
       "      <td>0.205</td>\n",
       "    </tr>\n",
       "    <tr>\n",
       "      <td>76</td>\n",
       "      <td>Eastern american chipmunk</td>\n",
       "      <td>Tamias</td>\n",
       "      <td>herbi</td>\n",
       "      <td>Rodentia</td>\n",
       "      <td>NaN</td>\n",
       "      <td>15.8</td>\n",
       "      <td>NaN</td>\n",
       "      <td>NaN</td>\n",
       "      <td>8.2</td>\n",
       "      <td>NaN</td>\n",
       "      <td>0.112</td>\n",
       "    </tr>\n",
       "  </tbody>\n",
       "</table>\n",
       "</div>"
      ],
      "text/plain": [
       "                              name         genus   vore     order  \\\n",
       "ID                                                                  \n",
       "3                  Mountain beaver    Aplodontia  herbi  Rodentia   \n",
       "6                 Three-toed sloth      Bradypus  herbi    Pilosa   \n",
       "27       Western american chipmunk      Eutamias  herbi  Rodentia   \n",
       "39                Mongolian gerbil      Meriones  herbi  Rodentia   \n",
       "40                  Golden hamster  Mesocricetus  herbi  Rodentia   \n",
       "44            Round-tailed muskrat      Neofiber  herbi  Rodentia   \n",
       "70          Arctic ground squirrel  Spermophilus  herbi  Rodentia   \n",
       "72  Golden-mantled ground squirrel  Spermophilus  herbi  Rodentia   \n",
       "76       Eastern american chipmunk        Tamias  herbi  Rodentia   \n",
       "\n",
       "   conservation  sleep_total  sleep_rem  sleep_cycle  awake  brainwt  bodywt  \n",
       "ID                                                                            \n",
       "3            nt         14.4        2.4          NaN    9.6      NaN   1.350  \n",
       "6           NaN         14.4        2.2     0.766667    9.6      NaN   3.850  \n",
       "27          NaN         14.9        NaN          NaN    9.1      NaN   0.071  \n",
       "39           lc         14.2        1.9          NaN    9.8      NaN   0.053  \n",
       "40           en         14.3        3.1     0.200000    9.7   0.0010   0.120  \n",
       "44           nt         14.6        NaN          NaN    9.4      NaN   0.266  \n",
       "70           lc         16.6        NaN          NaN    7.4   0.0057   0.920  \n",
       "72           lc         15.9        3.0          NaN    8.1      NaN   0.205  \n",
       "76          NaN         15.8        NaN          NaN    8.2      NaN   0.112  "
      ]
     },
     "execution_count": 45,
     "metadata": {},
     "output_type": "execute_result"
    }
   ],
   "source": [
    "animals.query(\"sleep_total > 14 and vore == 'herbi'\")"
   ]
  },
  {
   "cell_type": "code",
   "execution_count": 46,
   "metadata": {},
   "outputs": [
    {
     "data": {
      "text/html": [
       "<div>\n",
       "<style scoped>\n",
       "    .dataframe tbody tr th:only-of-type {\n",
       "        vertical-align: middle;\n",
       "    }\n",
       "\n",
       "    .dataframe tbody tr th {\n",
       "        vertical-align: top;\n",
       "    }\n",
       "\n",
       "    .dataframe thead th {\n",
       "        text-align: right;\n",
       "    }\n",
       "</style>\n",
       "<table border=\"1\" class=\"dataframe\">\n",
       "  <thead>\n",
       "    <tr style=\"text-align: right;\">\n",
       "      <th></th>\n",
       "      <th>name</th>\n",
       "      <th>genus</th>\n",
       "      <th>vore</th>\n",
       "      <th>order</th>\n",
       "      <th>conservation</th>\n",
       "      <th>sleep_total</th>\n",
       "      <th>sleep_rem</th>\n",
       "      <th>sleep_cycle</th>\n",
       "      <th>awake</th>\n",
       "      <th>brainwt</th>\n",
       "      <th>bodywt</th>\n",
       "    </tr>\n",
       "    <tr>\n",
       "      <th>ID</th>\n",
       "      <th></th>\n",
       "      <th></th>\n",
       "      <th></th>\n",
       "      <th></th>\n",
       "      <th></th>\n",
       "      <th></th>\n",
       "      <th></th>\n",
       "      <th></th>\n",
       "      <th></th>\n",
       "      <th></th>\n",
       "      <th></th>\n",
       "    </tr>\n",
       "  </thead>\n",
       "  <tbody>\n",
       "    <tr>\n",
       "      <td>3</td>\n",
       "      <td>Mountain beaver</td>\n",
       "      <td>Aplodontia</td>\n",
       "      <td>herbi</td>\n",
       "      <td>Rodentia</td>\n",
       "      <td>nt</td>\n",
       "      <td>14.4</td>\n",
       "      <td>2.4</td>\n",
       "      <td>NaN</td>\n",
       "      <td>9.6</td>\n",
       "      <td>NaN</td>\n",
       "      <td>1.35</td>\n",
       "    </tr>\n",
       "    <tr>\n",
       "      <td>6</td>\n",
       "      <td>Three-toed sloth</td>\n",
       "      <td>Bradypus</td>\n",
       "      <td>herbi</td>\n",
       "      <td>Pilosa</td>\n",
       "      <td>NaN</td>\n",
       "      <td>14.4</td>\n",
       "      <td>2.2</td>\n",
       "      <td>0.766667</td>\n",
       "      <td>9.6</td>\n",
       "      <td>NaN</td>\n",
       "      <td>3.85</td>\n",
       "    </tr>\n",
       "  </tbody>\n",
       "</table>\n",
       "</div>"
      ],
      "text/plain": [
       "                name       genus   vore     order conservation  sleep_total  \\\n",
       "ID                                                                            \n",
       "3    Mountain beaver  Aplodontia  herbi  Rodentia           nt         14.4   \n",
       "6   Three-toed sloth    Bradypus  herbi    Pilosa          NaN         14.4   \n",
       "\n",
       "    sleep_rem  sleep_cycle  awake  brainwt  bodywt  \n",
       "ID                                                  \n",
       "3         2.4          NaN    9.6      NaN    1.35  \n",
       "6         2.2     0.766667    9.6      NaN    3.85  "
      ]
     },
     "execution_count": 46,
     "metadata": {},
     "output_type": "execute_result"
    }
   ],
   "source": [
    "animals.query(\"sleep_total > 14 and vore == 'herbi' and bodywt > 1\")"
   ]
  },
  {
   "cell_type": "code",
   "execution_count": null,
   "metadata": {},
   "outputs": [],
   "source": []
  }
 ],
 "metadata": {
  "kernelspec": {
   "display_name": "Python 3",
   "language": "python",
   "name": "python3"
  },
  "language_info": {
   "codemirror_mode": {
    "name": "ipython",
    "version": 3
   },
   "file_extension": ".py",
   "mimetype": "text/x-python",
   "name": "python",
   "nbconvert_exporter": "python",
   "pygments_lexer": "ipython3",
   "version": "3.7.4"
  }
 },
 "nbformat": 4,
 "nbformat_minor": 2
}
